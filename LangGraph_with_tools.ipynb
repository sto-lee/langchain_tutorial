{
 "cells": [
  {
   "cell_type": "code",
   "execution_count": 12,
   "metadata": {},
   "outputs": [],
   "source": [
    "import os\n",
    "import dotenv\n",
    "\n",
    "dotenv.load_dotenv()\n",
    "\n",
    "def _set_env(var:str):\n",
    "    if not os.environ.get(var):\n",
    "        os.environ[var] = os.environ.get(var)\n",
    "\n",
    "_set_env(\"TAVILY_API_KEY\")\n"
   ]
  },
  {
   "cell_type": "code",
   "execution_count": 13,
   "metadata": {},
   "outputs": [
    {
     "data": {
      "text/plain": [
       "[{'title': 'What Is LangGraph and How to Use It? - DataCamp',\n",
       "  'url': 'https://www.datacamp.com/tutorial/langgraph-tutorial',\n",
       "  'content': 'To install LangGraph, you can use pip:\\npip install -U langgraph\\nBasic Concepts\\nNodes: Nodes represent units of work within your LangGraph. They are typically Python functions that perform a specific task, such as: [...] Imagine your application as a directed graph. In LangGraph, each node represents an LLM agent, and the edges are the communication channels between these agents. This structure allows for clear and manageable workflows, where each agent performs specific tasks and passes information to other agents as needed.\\nState management',\n",
       "  'score': 0.8400968443278085},\n",
       " {'title': 'A Comprehensive Guide About Langgraph: Code Included - Ionio',\n",
       "  'url': 'https://www.ionio.ai/blog/a-comprehensive-guide-about-langgraph-code-included',\n",
       "  'content': 'Now let’s take a look at each component of langgraph in detail 🚀\\nNodes\\nA node can be any function or tool your agent uses in langgraph and these nodes are connected with other nodes using edges. Every workflow ends with a “END” node in langgraph which shows the end of workflow. You also need to define a starting node which will be the starting point of your workflow. Optionally, you can also define an ending node if you know the ending point of your workflow. [...] Workflow Automation: \\xa0LangGraph can automate complex workflows that involve multiple steps and decision points. By defining the steps as nodes in the graph and the decision logic as edges, LangGraph can handle complex tasks easily. Langgraph can also make complex RAG systems easy to visualize and implement.',\n",
       "  'score': 0.8122931747697975}]"
      ]
     },
     "execution_count": 13,
     "metadata": {},
     "output_type": "execute_result"
    }
   ],
   "source": [
    "# tavily는 LLM모델을 RAG로 사용하기에 특화 된 검색 엔진\n",
    "from langchain_community.tools.tavily_search import TavilySearchResults\n",
    "\n",
    "tool = TavilySearchResults(max_results=2)\n",
    "tools = [tool]\n",
    "tool.invoke(\"What's a 'node' in LangGraph?\")"
   ]
  },
  {
   "cell_type": "code",
   "execution_count": 14,
   "metadata": {},
   "outputs": [
    {
     "data": {
      "text/plain": [
       "1"
      ]
     },
     "execution_count": 14,
     "metadata": {},
     "output_type": "execute_result"
    }
   ],
   "source": [
    "len(tools)"
   ]
  },
  {
   "cell_type": "markdown",
   "metadata": {},
   "source": [
    "LangGraph.ipynb에서 수행했던 기본 챗봇에 bind_tools를 이용해 tavily search를 추가한 챗봇을 만들어보자\n",
    "\n",
    "bind_tools를 활용해 LLM이 어떤 검색 엔진을 사용해야 하는 지 인식하게 할 수 있음"
   ]
  },
  {
   "cell_type": "code",
   "execution_count": 15,
   "metadata": {},
   "outputs": [
    {
     "data": {
      "text/plain": [
       "<langgraph.graph.state.StateGraph at 0x2aff596eb10>"
      ]
     },
     "execution_count": 15,
     "metadata": {},
     "output_type": "execute_result"
    }
   ],
   "source": [
    "from typing import Annotated\n",
    "\n",
    "from langchain_openai import ChatOpenAI\n",
    "from typing_extensions import TypedDict\n",
    "\n",
    "from langgraph.graph import StateGraph, START, END\n",
    "from langgraph.graph.message import add_messages\n",
    "\n",
    "class State(TypedDict):\n",
    "    messages: Annotated[list, add_messages]\n",
    "\n",
    "graph_builder = StateGraph(State)\n",
    "\n",
    "llm = ChatOpenAI(model=\"gpt-4o-mini\", temperature=0)\n",
    "llm_with_tools = llm.bind_tools(tools)\n",
    "\n",
    "def chatbot(state: State):\n",
    "    return {\"messages\": [llm_with_tools.invoke(state[\"messages\"])]}\n",
    "\n",
    "graph_builder.add_node(\"chatbot\", chatbot)\n"
   ]
  },
  {
   "cell_type": "markdown",
   "metadata": {},
   "source": [
    "위에서 LLM이 어떤 검색 엔진을 사용하는 지 인식시켰으니 이제 실제로 해당 검색 엔진이 실행되었을 때, 실제로 검색 엔진이 호출되어 사용될 수 있도록 해줘야 함   \n",
    "\n",
    "이런 걸 ToolNode에서 해결해주지만, LangGraph에서는 BasicToolNode를 구현해서 어떻게 동작되는지를 보여줌."
   ]
  },
  {
   "cell_type": "code",
   "execution_count": 16,
   "metadata": {},
   "outputs": [
    {
     "data": {
      "text/plain": [
       "<langgraph.graph.state.StateGraph at 0x2aff596eb10>"
      ]
     },
     "execution_count": 16,
     "metadata": {},
     "output_type": "execute_result"
    }
   ],
   "source": [
    "import json\n",
    "\n",
    "from langchain_core.messages import ToolMessage\n",
    "\n",
    "class BasicToolNode:\n",
    "    # 해당 노드는 요구된 마지막 AI메시지에서 툴을 실행\n",
    "    def __init__(self, tools: list) -> None:\n",
    "        self.tools_by_name = {tool.name: tool for tool in tools} # tools에 저장된 tool을 dictionary로 저장\n",
    "    \n",
    "    def __call__(self, inputs: dict):\n",
    "        if messages := inputs.get(\"messages\", []): # 메시지가 있는지 확인\n",
    "            message = messages[-1] # 마지막 메시지를 가져옴\n",
    "        else:\n",
    "            raise ValueError(\"No messages found in input\")\n",
    "        outputs = []\n",
    "\n",
    "        for tool_call in message.tool_calls: # 메시지에 툴 호출이 있는지 확인\n",
    "            # 툴 호출이 있으면 툴 호출을 실행\n",
    "            tool_result = self.tools_by_name[tool_call[\"name\"]].invoke(\n",
    "                tool_call[\"args\"]\n",
    "            )\n",
    "            outputs.append(\n",
    "                ToolMessage(\n",
    "                    content=json.dumps(tool_result),\n",
    "                    name=tool_call[\"name\"],\n",
    "                    tool_call_id=tool_call[\"id\"]\n",
    "                ) # 툴의 결과를 tool message로 변환환\n",
    "            )\n",
    "        return {\"messages\": outputs}\n",
    "    \n",
    "tool_node = BasicToolNode(tools=[tool])\n",
    "graph_builder.add_node(\"tools\", tool_node)"
   ]
  },
  {
   "cell_type": "markdown",
   "metadata": {},
   "source": [
    "edges는 한 node에서 다음 node로 제어 흐름을 라우팅함. Conditional edges는 현재 graph state에서 다른 노드의 의존성을 라우팅하기 위해 if statements을 포함한다.\n",
    "해당 함수는 현재 graph state를 받고 node가 다음 node를 가르키는 string또는 list의 strings을 반환한다.\n",
    "\n",
    "call은 route_tools로 불리는 router function으로 정의된다. route_tools는 챗봇의 결과에서 tool_calls를 체크한다.   \n",
    "챗봇 node가 다음 node로 진행되어도 상관없는지 확인하는 add_conditional_edges함수를 제공한다."
   ]
  },
  {
   "cell_type": "code",
   "execution_count": 17,
   "metadata": {},
   "outputs": [],
   "source": [
    "def route_tools(\n",
    "        state: State,\n",
    "):\n",
    "    \"\"\"\n",
    "    만약 마지막 메시지가 tool_calls를 포함하고 있다면, 툴 노드로 라우팅하기 위해 conditional edge를 사용\n",
    "    만약 마지막 메시지가 tool_calls를 포함하고 있지 않다면, end를 라우팅\n",
    "    \"\"\"\n",
    "    if isinstance(state, list):\n",
    "        ai_message = state[-1] # state가 list인 경우 마지막 메시지를 가져옴\n",
    "    elif messages := state.get(\"messages\", []):\n",
    "        ai_message = messages[-1] # state가 dict인 경우 messages의 마지막 메시지를 가져옴\n",
    "    else:\n",
    "        raise ValueError(f\"No messages found in input state to tool_edge: {state}\")\n",
    "    print(f\"ai_message: {ai_message}\")\n",
    "    if hasattr(ai_message, \"tool_calls\") and len(ai_message.tool_calls) > 0:\n",
    "        return \"tools\" # 마지막 메시지가 tool_calls를 포함하고 있으면 tools node로 라우팅\n",
    "    return END\n",
    "\n",
    "# 챗봇이 tool을 사용하는 걸 요청하면, tools_conditional 함수는 tools를 리턴하고 나서 END를 리턴함\n",
    "graph_builder.add_conditional_edges(\n",
    "    \"chatbot\",\n",
    "    route_tools,\n",
    "    {'tools': \"tools\", END: END},\n",
    ")\n",
    "\n",
    "graph_builder.add_edge(\"tools\", \"chatbot\")\n",
    "graph_builder.add_edge(START, \"chatbot\")\n",
    "graph = graph_builder.compile()"
   ]
  },
  {
   "cell_type": "code",
   "execution_count": 18,
   "metadata": {},
   "outputs": [
    {
     "data": {
      "image/png": "[encoded data removed]",
      "text/plain": [
       "<IPython.core.display.Image object>"
      ]
     },
     "metadata": {},
     "output_type": "display_data"
    }
   ],
   "source": [
    "from IPython.display import Image, display\n",
    "\n",
    "try:\n",
    "    display(Image(graph.get_graph().draw_mermaid_png()))\n",
    "except Exception:\n",
    "    # This requires some extra dependencies and is optional\n",
    "    pass"
   ]
  },
  {
   "cell_type": "code",
   "execution_count": 19,
   "metadata": {},
   "outputs": [
    {
     "name": "stdout",
     "output_type": "stream",
     "text": [
      "ai_message: content='Hello! How can I assist you today?' additional_kwargs={'refusal': None} response_metadata={'token_usage': {'completion_tokens': 11, 'prompt_tokens': 80, 'total_tokens': 91, 'completion_tokens_details': {'accepted_prediction_tokens': 0, 'audio_tokens': 0, 'reasoning_tokens': 0, 'rejected_prediction_tokens': 0}, 'prompt_tokens_details': {'audio_tokens': 0, 'cached_tokens': 0}}, 'model_name': 'gpt-4o-mini-2024-07-18', 'system_fingerprint': 'fp_b8bc95a0ac', 'id': 'chatcmpl-BDPxeDM3KPhSFJio85jEi6L3DJyXB', 'finish_reason': 'stop', 'logprobs': None} id='run-729434ed-f945-4699-bdd0-bf97218019ff-0' usage_metadata={'input_tokens': 80, 'output_tokens': 11, 'total_tokens': 91, 'input_token_details': {'audio': 0, 'cache_read': 0}, 'output_token_details': {'audio': 0, 'reasoning': 0}}\n",
      "Assistant: Hello! How can I assist you today?\n",
      "ai_message: content='' additional_kwargs={'tool_calls': [{'id': 'call_pda4O8sTjefdAKcMTjjS8Ymx', 'function': {'arguments': '{\"query\":\"LangGraph\"}', 'name': 'tavily_search_results_json'}, 'type': 'function'}], 'refusal': None} response_metadata={'token_usage': {'completion_tokens': 20, 'prompt_tokens': 87, 'total_tokens': 107, 'completion_tokens_details': {'accepted_prediction_tokens': 0, 'audio_tokens': 0, 'reasoning_tokens': 0, 'rejected_prediction_tokens': 0}, 'prompt_tokens_details': {'audio_tokens': 0, 'cached_tokens': 0}}, 'model_name': 'gpt-4o-mini-2024-07-18', 'system_fingerprint': 'fp_b8bc95a0ac', 'id': 'chatcmpl-BDPxopUpnXT8879pvCpDbyCT8divR', 'finish_reason': 'tool_calls', 'logprobs': None} id='run-bba4a54a-3828-4992-8d70-a704bd88de45-0' tool_calls=[{'name': 'tavily_search_results_json', 'args': {'query': 'LangGraph'}, 'id': 'call_pda4O8sTjefdAKcMTjjS8Ymx', 'type': 'tool_call'}] usage_metadata={'input_tokens': 87, 'output_tokens': 20, 'total_tokens': 107, 'input_token_details': {'audio': 0, 'cache_read': 0}, 'output_token_details': {'audio': 0, 'reasoning': 0}}\n",
      "Assistant: \n",
      "Assistant: [{\"title\": \"LangGraph Quickstart - GitHub Pages\", \"url\": \"https://langchain-ai.github.io/langgraph/tutorials/introduction/\", \"content\": \"[](https://langchain-ai.github.io/langgraph/tutorials/introduction/#__codelineno-9-1)Assistant: LangGraph is a library designed to help build stateful multi-agent applications using language models. It provides tools for creating workflows and state machines to coordinate multiple AI agents or language model interactions. LangGraph is built on top of LangChain, leveraging its components while adding graph-based coordination capabilities. It's particularly useful for developing more complex, [...] [](https://langchain-ai.github.io/langgraph/tutorials/introduction/#__codelineno-21-6)   LangGraph is a library designed for building stateful, multi-actor applications with Large Language Models (LLMs). It's particularly useful for creating agent and multi-agent workflows.\\n[](https://langchain-ai.github.io/langgraph/tutorials/introduction/#__codelineno-21-7)\\n[](https://langchain-ai.github.io/langgraph/tutorials/introduction/#__codelineno-21-8)2. Developer: [...] [](https://langchain-ai.github.io/langgraph/tutorials/introduction/#__codelineno-48-19)LangGraph is likely a framework or library designed specifically for creating AI agents with advanced capabilities. Here are a few points to consider based on this recommendation:\\n[](https://langchain-ai.github.io/langgraph/tutorials/introduction/#__codelineno-48-20)\", \"score\": 0.9034587966931639}, {\"title\": \"langchain-ai/langgraph: Build resilient language agents as graphs.\", \"url\": \"https://github.com/langchain-ai/langgraph\", \"content\": \"Note\\nLooking for the JS version? See the JS repo and the JS docs.\\nLangGraph \\u2014 used by Replit, Uber, LinkedIn, GitLab and more \\u2014 is a low-level orchestration framework for building controllable agents. While langchain provides integrations and composable components to streamline LLM application development, the LangGraph library enables agent orchestration \\u2014 offering customizable architectures, long-term memory, and human-in-the-loop to reliably handle complex tasks.\\nshell [...] LangGraph is built for developers who want to build powerful, adaptable AI agents. Developers choose LangGraph for: [...] While LangGraph is our open-source agent orchestration framework, enterprises that need scalable agent deployment can benefit from LangGraph Platform.\\nLangGraph Platform can help engineering teams:\", \"score\": 0.8631747818600953}]\n",
      "ai_message: content='LangGraph is a library designed for building stateful, multi-agent applications using large language models (LLMs). It provides tools for creating workflows and state machines that coordinate multiple AI agents or language model interactions. Here are some key points about LangGraph:\\n\\n1. **Purpose**: LangGraph is particularly useful for developing complex agent and multi-agent workflows, allowing for more sophisticated interactions between AI agents.\\n\\n2. **Integration with LangChain**: It is built on top of LangChain, leveraging its components while adding graph-based coordination capabilities.\\n\\n3. **Features**: The library offers customizable architectures, long-term memory, and human-in-the-loop capabilities, making it suitable for handling complex tasks reliably.\\n\\n4. **Usage**: LangGraph is utilized by various companies, including Replit, Uber, LinkedIn, and GitLab, indicating its effectiveness in real-world applications.\\n\\n5. **Open Source**: It is an open-source framework, which allows developers to build powerful and adaptable AI agents.\\n\\nFor more detailed information, you can check the [LangGraph Quickstart](https://langchain-ai.github.io/langgraph/tutorials/introduction/) or the [GitHub repository](https://github.com/langchain-ai/langgraph).' additional_kwargs={'refusal': None} response_metadata={'token_usage': {'completion_tokens': 247, 'prompt_tokens': 662, 'total_tokens': 909, 'completion_tokens_details': {'accepted_prediction_tokens': 0, 'audio_tokens': 0, 'reasoning_tokens': 0, 'rejected_prediction_tokens': 0}, 'prompt_tokens_details': {'audio_tokens': 0, 'cached_tokens': 0}}, 'model_name': 'gpt-4o-mini-2024-07-18', 'system_fingerprint': 'fp_b8bc95a0ac', 'id': 'chatcmpl-BDPxtZAftu4MpjpElKQ1kiOxSOgIi', 'finish_reason': 'stop', 'logprobs': None} id='run-84b69d83-b57e-458c-9237-22b5ecd0371d-0' usage_metadata={'input_tokens': 662, 'output_tokens': 247, 'total_tokens': 909, 'input_token_details': {'audio': 0, 'cache_read': 0}, 'output_token_details': {'audio': 0, 'reasoning': 0}}\n",
      "Assistant: LangGraph is a library designed for building stateful, multi-agent applications using large language models (LLMs). It provides tools for creating workflows and state machines that coordinate multiple AI agents or language model interactions. Here are some key points about LangGraph:\n",
      "\n",
      "1. **Purpose**: LangGraph is particularly useful for developing complex agent and multi-agent workflows, allowing for more sophisticated interactions between AI agents.\n",
      "\n",
      "2. **Integration with LangChain**: It is built on top of LangChain, leveraging its components while adding graph-based coordination capabilities.\n",
      "\n",
      "3. **Features**: The library offers customizable architectures, long-term memory, and human-in-the-loop capabilities, making it suitable for handling complex tasks reliably.\n",
      "\n",
      "4. **Usage**: LangGraph is utilized by various companies, including Replit, Uber, LinkedIn, and GitLab, indicating its effectiveness in real-world applications.\n",
      "\n",
      "5. **Open Source**: It is an open-source framework, which allows developers to build powerful and adaptable AI agents.\n",
      "\n",
      "For more detailed information, you can check the [LangGraph Quickstart](https://langchain-ai.github.io/langgraph/tutorials/introduction/) or the [GitHub repository](https://github.com/langchain-ai/langgraph).\n",
      "Goodbye!\n"
     ]
    }
   ],
   "source": [
    "def stream_graph_updates(user_input: str):\n",
    "    for event in graph.stream({\"messages\": [{\"role\": \"user\", \"content\": user_input}]}):\n",
    "        for value in event.values():\n",
    "            print(\"Assistant:\", value[\"messages\"][-1].content)\n",
    "\n",
    "while True:\n",
    "    try:\n",
    "        user_input = input(\"User: \")\n",
    "        if user_input.lower() in [\"quit\", \"exit\", \"q\"]:\n",
    "            print(\"Goodbye!\")\n",
    "            break\n",
    "\n",
    "        stream_graph_updates(user_input)\n",
    "    except:\n",
    "        # fallback if input() is not available\n",
    "        user_input = \"What do you know about LangGraph?\"\n",
    "        print(\"User: \" + user_input)\n",
    "        stream_graph_updates(user_input)\n",
    "        break"
   ]
  },
  {
   "cell_type": "code",
   "execution_count": null,
   "metadata": {},
   "outputs": [],
   "source": []
  }
 ],
 "metadata": {
  "kernelspec": {
   "display_name": ".venv",
   "language": "python",
   "name": "python3"
  },
  "language_info": {
   "codemirror_mode": {
    "name": "ipython",
    "version": 3
   },
   "file_extension": ".py",
   "mimetype": "text/x-python",
   "name": "python",
   "nbconvert_exporter": "python",
   "pygments_lexer": "ipython3",
   "version": "3.11.9"
  }
 },
 "nbformat": 4,
 "nbformat_minor": 2
}
