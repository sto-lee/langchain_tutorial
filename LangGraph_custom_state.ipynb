{
 "cells": [
  {
   "cell_type": "markdown",
   "metadata": {},
   "source": [
    "만약 메시지 list에 의존하지 않고 복잡한 행동을 정의하고 싶다면, state에 filed를 추가해서 해결 할 수 있다.\n",
    "\n",
    "아래의 예시는 챗봇이 검색 도구를 사용하여 특정 정보(생일과 이름)를 찾아 사용자에게 전달하여 검토하는 시나리오.   "
   ]
  },
  {
   "cell_type": "code",
   "execution_count": 2,
   "metadata": {},
   "outputs": [],
   "source": [
    "from typing import Annotated\n",
    "from typing_extensions import TypedDict\n",
    "from langgraph.graph.message import add_messages\n",
    "\n",
    "class State(TypedDict):\n",
    "    messages: Annotated[list, add_messages]\n",
    "    name: str\n",
    "    birthday: str"
   ]
  },
  {
   "cell_type": "code",
   "execution_count": 3,
   "metadata": {},
   "outputs": [],
   "source": [
    "from langchain_core.messages import ToolMessage\n",
    "from langchain_core.tools import InjectedToolCallId, tool\n",
    "\n",
    "from langgraph.types import Command, interrupt\n",
    "\n",
    "@tool\n",
    "def human_assistance(\n",
    "    name: str, birthday: str, tool_call_id: Annotated[str, InjectedToolCallId]\n",
    ") -> str:\n",
    "    \"\"\"사용자로부터 도움을 요청\"\"\"\n",
    "    human_response = interrupt(\n",
    "        {\n",
    "            \"question\": \"Is this correct?\",\n",
    "            \"name\": name,\n",
    "            \"birthday\": birthday,\n",
    "        }\n",
    "    )\n",
    "    # 만일 정보가 맞다면, 있는 그대로 state를 업데이트\n",
    "    if human_response.get(\"correct\", \"\").lower().startswith(\"y\"):\n",
    "        verified_name = name\n",
    "        verified_birthday = birthday\n",
    "        response = \"Correct\"\n",
    "    # 맞지 않다면, 사용자의 반응에서 값을 받음\n",
    "    else:\n",
    "        verified_name = human_response.get(\"name\", name)\n",
    "        verified_birthday = human_response.get(\"birthday\", birthday)\n",
    "        response = f\"Made a correction: {human_response}\"\n",
    "\n",
    "    # 예제에서는 tool 안에서 ToolMessage를 사용해서 state를 명시적으로 업데이트\n",
    "    state_update = {\n",
    "        \"name\": verified_name,\n",
    "        \"birthday\": verified_birthday,\n",
    "        \"messages\": [ToolMessage(response, tool_call_id=tool_call_id)],\n",
    "    }\n",
    "    # state를 업데이트하기 위해 tool 안에서 Command를 반환\n",
    "    return Command(update=state_update)"
   ]
  },
  {
   "cell_type": "code",
   "execution_count": 5,
   "metadata": {},
   "outputs": [],
   "source": [
    "from langchain_openai import ChatOpenAI\n",
    "from langchain_community.tools.tavily_search import TavilySearchResults\n",
    "\n",
    "from langgraph.checkpoint.memory import MemorySaver\n",
    "from langgraph.graph import StateGraph, START, END\n",
    "from langgraph.prebuilt import ToolNode, tools_condition\n",
    "\n",
    "tool = TavilySearchResults(max_results=2)\n",
    "tools = [tool, human_assistance]\n",
    "llm = ChatOpenAI(model=\"gpt-4o-mini\", temperature=0)\n",
    "llm_with_tools = llm.bind_tools(tools)\n",
    "\n",
    "def chatbot(state:State):\n",
    "    message = llm_with_tools.invoke(state[\"messages\"])\n",
    "    assert len(message.tool_calls) <= 1 # 최대 하나의 tool 호출\n",
    "    return {\"messages\": [message]}\n",
    "\n",
    "graph_builder = StateGraph(State)\n",
    "graph_builder.add_node(\"chatbot\", chatbot)\n",
    "\n",
    "tool_node = ToolNode(tools=tools)\n",
    "graph_builder.add_node(\"tools\", tool_node)\n",
    "\n",
    "graph_builder.add_conditional_edges(\n",
    "    \"chatbot\",\n",
    "    tools_condition,\n",
    ")\n",
    "graph_builder.add_edge(\"tools\", \"chatbot\")\n",
    "graph_builder.add_edge(START, \"chatbot\")\n",
    "\n",
    "memory = MemorySaver()\n",
    "graph = graph_builder.compile(checkpointer=memory)\n"
   ]
  },
  {
   "cell_type": "code",
   "execution_count": 6,
   "metadata": {},
   "outputs": [
    {
     "name": "stdout",
     "output_type": "stream",
     "text": [
      "================================\u001b[1m Human Message \u001b[0m=================================\n",
      "\n",
      "Can you look up when LangGraph was released? When you have the answer, use the human_assistance tool for review.\n",
      "==================================\u001b[1m Ai Message \u001b[0m==================================\n",
      "Tool Calls:\n",
      "  tavily_search_results_json (call_aW8oLKz5SFk2bCMexDjlS1Pv)\n",
      " Call ID: call_aW8oLKz5SFk2bCMexDjlS1Pv\n",
      "  Args:\n",
      "    query: LangGraph release date\n",
      "=================================\u001b[1m Tool Message \u001b[0m=================================\n",
      "Name: tavily_search_results_json\n",
      "\n",
      "[{\"title\": \"langgraph - PyPI\", \"url\": \"https://pypi.org/project/langgraph/\", \"content\": \"langgraph · PyPI\\nSkip to main content Switch to mobile version\\n\\nSearch PyPI  Search\\n\\nHelp\\nSponsors\\nLog in\\nRegister\\n\\nMenu\\n\\nHelp\\nSponsors\\nLog in\\nRegister\\n\\nSearch PyPI  Search\\nlanggraph 0.2.70\\npip install langgraph Copy PIP instructions\\nLatest versionReleased: Feb 6, 2025\\nBuilding stateful, multi-actor applications with LLMs\\nNavigation\\n\\nProject description\\nRelease history\\nDownload files [...] 0.2.20 Sep 13, 2024\\n\\n0.2.19 Sep 6, 2024\\n\\n0.2.18 Sep 6, 2024\\n\\n0.2.17 Sep 5, 2024\\n\\n0.2.16 Sep 1, 2024\\n\\n0.2.15 Aug 30, 2024\\n\\n0.2.14 Aug 24, 2024\\n\\n0.2.13 Aug 23, 2024\\n\\n0.2.12 Aug 22, 2024\\n\\n0.2.11 Aug 22, 2024\\n\\n0.2.10 Aug 21, 2024\\n\\n0.2.9 Aug 21, 2024\\n\\n0.2.8 Aug 21, 2024\\n\\n0.2.7 Aug 21, 2024\\n\\n0.2.7a0 pre-release Aug 21, 2024\\n\\n0.2.6 Aug 21, 2024\\n\\n0.2.5 Aug 21, 2024\\n\\n0.2.5a0 pre-release Aug 20, 2024\\n\\n0.2.4 Aug 15, 2024\\n\\n0.2.3 Aug 8, 2024\\n\\n0.2.2 Aug 7, 2024\\n\\n0.2.1 Aug 7, 2024\\n\\n0.2.0 Aug 7, 2024 [...] License\\nOSI Approved :: MIT License\\n\\n\\nProgramming Language\\nPython :: 3\\nPython :: 3.9\\nPython :: 3.10\\nPython :: 3.11\\nPython :: 3.12\\n\\n\\n\\nRelease history Release notifications | RSS feed\\nThis version\\n\\n0.2.70 Feb 6, 2025\\n\\n0.2.69 Jan 31, 2025\\n\\n0.2.68 Jan 28, 2025\\n\\n0.2.67 Jan 23, 2025\\n\\n0.2.66 Jan 21, 2025\\n\\n0.2.65 Jan 21, 2025\\n\\n0.2.64 Jan 17, 2025\\n\\n0.2.63 Jan 16, 2025\\n\\n0.2.62 Jan 10, 2025\\n\\n0.2.61 Jan 5, 2025\\n\\n0.2.60 Dec 18, 2024\\n\\n0.2.59 Dec 11, 2024\\n\\n0.2.58 Dec 10, 2024\\n\\n0.2.57 Dec 10, 2024\", \"score\": 0.7713921013333334}, {\"title\": \"January 2024 - LangChain - Changelog\", \"url\": \"https://changelog.langchain.com/?date=2024-01-01\", \"content\": \"LangGraph 🤖🚀 Introducing LangGraph -------------------------- We just launched LangGraph, which helps customize your Agent Runtime. You can read more about it on the blog . LangGraph helps construct a powerful agent... January 22, 2024\\nDecember 2023\", \"score\": 0.7632559836}]\n",
      "==================================\u001b[1m Ai Message \u001b[0m==================================\n",
      "Tool Calls:\n",
      "  human_assistance (call_HmKYygLnDHxhXDN3Ew6SpmM5)\n",
      " Call ID: call_HmKYygLnDHxhXDN3Ew6SpmM5\n",
      "  Args:\n",
      "    name: LangGraph\n",
      "    birthday: January 22, 2024\n"
     ]
    }
   ],
   "source": [
    "user_input = (\n",
    "    \"Can you look up when LangGraph was released? \"\n",
    "    \"When you have the answer, use the human_assistance tool for review.\"\n",
    ")\n",
    "config = {\"configurable\": {\"thread_id\": \"1\"}}\n",
    "\n",
    "events = graph.stream(\n",
    "    {\"messages\": [{\"role\": \"user\", \"content\": user_input}]},\n",
    "    config,\n",
    "    stream_mode=\"values\",\n",
    ")\n",
    "for event in events:\n",
    "    if \"messages\" in event:\n",
    "        event[\"messages\"][-1].pretty_print()"
   ]
  },
  {
   "cell_type": "code",
   "execution_count": 7,
   "metadata": {},
   "outputs": [
    {
     "name": "stdout",
     "output_type": "stream",
     "text": [
      "==================================\u001b[1m Ai Message \u001b[0m==================================\n",
      "Tool Calls:\n",
      "  human_assistance (call_HmKYygLnDHxhXDN3Ew6SpmM5)\n",
      " Call ID: call_HmKYygLnDHxhXDN3Ew6SpmM5\n",
      "  Args:\n",
      "    name: LangGraph\n",
      "    birthday: January 22, 2024\n",
      "=================================\u001b[1m Tool Message \u001b[0m=================================\n",
      "Name: human_assistance\n",
      "\n",
      "Made a correction: {'name': 'LangGraph', 'birthday': 'Jan 17, 2024'}\n",
      "==================================\u001b[1m Ai Message \u001b[0m==================================\n",
      "\n",
      "LangGraph was officially launched on January 17, 2024.\n"
     ]
    }
   ],
   "source": [
    "human_command = Command(\n",
    "    resume={\n",
    "        \"name\": \"LangGraph\",\n",
    "        \"birthday\": \"Jan 17, 2024\",\n",
    "    },\n",
    ")\n",
    "\n",
    "events = graph.stream(human_command, config, stream_mode=\"values\")\n",
    "for event in events:\n",
    "    if \"messages\" in event:\n",
    "        event[\"messages\"][-1].pretty_print()"
   ]
  },
  {
   "cell_type": "code",
   "execution_count": 8,
   "metadata": {},
   "outputs": [
    {
     "data": {
      "text/plain": [
       "dict_items([('messages', [HumanMessage(content='Can you look up when LangGraph was released? When you have the answer, use the human_assistance tool for review.', additional_kwargs={}, response_metadata={}, id='e3f580fd-2b20-45c3-a814-797035d7030c'), AIMessage(content='', additional_kwargs={'tool_calls': [{'id': 'call_aW8oLKz5SFk2bCMexDjlS1Pv', 'function': {'arguments': '{\"query\":\"LangGraph release date\"}', 'name': 'tavily_search_results_json'}, 'type': 'function'}], 'refusal': None}, response_metadata={'token_usage': {'completion_tokens': 22, 'prompt_tokens': 130, 'total_tokens': 152, 'completion_tokens_details': {'accepted_prediction_tokens': 0, 'audio_tokens': 0, 'reasoning_tokens': 0, 'rejected_prediction_tokens': 0}, 'prompt_tokens_details': {'audio_tokens': 0, 'cached_tokens': 0}}, 'model_name': 'gpt-4o-mini-2024-07-18', 'system_fingerprint': 'fp_b8bc95a0ac', 'id': 'chatcmpl-BEW2Ds62zHDMRVttCoi9lZE8ex4v2', 'finish_reason': 'tool_calls', 'logprobs': None}, id='run-adb2b135-d693-4707-85d9-45d69833bb0e-0', tool_calls=[{'name': 'tavily_search_results_json', 'args': {'query': 'LangGraph release date'}, 'id': 'call_aW8oLKz5SFk2bCMexDjlS1Pv', 'type': 'tool_call'}], usage_metadata={'input_tokens': 130, 'output_tokens': 22, 'total_tokens': 152, 'input_token_details': {'audio': 0, 'cache_read': 0}, 'output_token_details': {'audio': 0, 'reasoning': 0}}), ToolMessage(content='[{\"title\": \"langgraph - PyPI\", \"url\": \"https://pypi.org/project/langgraph/\", \"content\": \"langgraph · PyPI\\\\nSkip to main content Switch to mobile version\\\\n\\\\nSearch PyPI  Search\\\\n\\\\nHelp\\\\nSponsors\\\\nLog in\\\\nRegister\\\\n\\\\nMenu\\\\n\\\\nHelp\\\\nSponsors\\\\nLog in\\\\nRegister\\\\n\\\\nSearch PyPI  Search\\\\nlanggraph 0.2.70\\\\npip install langgraph Copy PIP instructions\\\\nLatest versionReleased: Feb 6, 2025\\\\nBuilding stateful, multi-actor applications with LLMs\\\\nNavigation\\\\n\\\\nProject description\\\\nRelease history\\\\nDownload files [...] 0.2.20 Sep 13, 2024\\\\n\\\\n0.2.19 Sep 6, 2024\\\\n\\\\n0.2.18 Sep 6, 2024\\\\n\\\\n0.2.17 Sep 5, 2024\\\\n\\\\n0.2.16 Sep 1, 2024\\\\n\\\\n0.2.15 Aug 30, 2024\\\\n\\\\n0.2.14 Aug 24, 2024\\\\n\\\\n0.2.13 Aug 23, 2024\\\\n\\\\n0.2.12 Aug 22, 2024\\\\n\\\\n0.2.11 Aug 22, 2024\\\\n\\\\n0.2.10 Aug 21, 2024\\\\n\\\\n0.2.9 Aug 21, 2024\\\\n\\\\n0.2.8 Aug 21, 2024\\\\n\\\\n0.2.7 Aug 21, 2024\\\\n\\\\n0.2.7a0 pre-release Aug 21, 2024\\\\n\\\\n0.2.6 Aug 21, 2024\\\\n\\\\n0.2.5 Aug 21, 2024\\\\n\\\\n0.2.5a0 pre-release Aug 20, 2024\\\\n\\\\n0.2.4 Aug 15, 2024\\\\n\\\\n0.2.3 Aug 8, 2024\\\\n\\\\n0.2.2 Aug 7, 2024\\\\n\\\\n0.2.1 Aug 7, 2024\\\\n\\\\n0.2.0 Aug 7, 2024 [...] License\\\\nOSI Approved :: MIT License\\\\n\\\\n\\\\nProgramming Language\\\\nPython :: 3\\\\nPython :: 3.9\\\\nPython :: 3.10\\\\nPython :: 3.11\\\\nPython :: 3.12\\\\n\\\\n\\\\n\\\\nRelease history Release notifications | RSS feed\\\\nThis version\\\\n\\\\n0.2.70 Feb 6, 2025\\\\n\\\\n0.2.69 Jan 31, 2025\\\\n\\\\n0.2.68 Jan 28, 2025\\\\n\\\\n0.2.67 Jan 23, 2025\\\\n\\\\n0.2.66 Jan 21, 2025\\\\n\\\\n0.2.65 Jan 21, 2025\\\\n\\\\n0.2.64 Jan 17, 2025\\\\n\\\\n0.2.63 Jan 16, 2025\\\\n\\\\n0.2.62 Jan 10, 2025\\\\n\\\\n0.2.61 Jan 5, 2025\\\\n\\\\n0.2.60 Dec 18, 2024\\\\n\\\\n0.2.59 Dec 11, 2024\\\\n\\\\n0.2.58 Dec 10, 2024\\\\n\\\\n0.2.57 Dec 10, 2024\", \"score\": 0.7713921013333334}, {\"title\": \"January 2024 - LangChain - Changelog\", \"url\": \"https://changelog.langchain.com/?date=2024-01-01\", \"content\": \"LangGraph 🤖🚀 Introducing LangGraph -------------------------- We just launched LangGraph, which helps customize your Agent Runtime. You can read more about it on the blog . LangGraph helps construct a powerful agent... January 22, 2024\\\\nDecember 2023\", \"score\": 0.7632559836}]', name='tavily_search_results_json', id='867a47bd-ccce-4027-9fb3-887184da3e9b', tool_call_id='call_aW8oLKz5SFk2bCMexDjlS1Pv', artifact={'query': 'LangGraph release date', 'follow_up_questions': None, 'answer': None, 'images': [], 'results': [{'url': 'https://pypi.org/project/langgraph/', 'title': 'langgraph - PyPI', 'content': 'langgraph · PyPI\\nSkip to main content Switch to mobile version\\n\\nSearch PyPI  Search\\n\\nHelp\\nSponsors\\nLog in\\nRegister\\n\\nMenu\\n\\nHelp\\nSponsors\\nLog in\\nRegister\\n\\nSearch PyPI  Search\\nlanggraph 0.2.70\\npip install langgraph Copy PIP instructions\\nLatest versionReleased: Feb 6, 2025\\nBuilding stateful, multi-actor applications with LLMs\\nNavigation\\n\\nProject description\\nRelease history\\nDownload files [...] 0.2.20 Sep 13, 2024\\n\\n0.2.19 Sep 6, 2024\\n\\n0.2.18 Sep 6, 2024\\n\\n0.2.17 Sep 5, 2024\\n\\n0.2.16 Sep 1, 2024\\n\\n0.2.15 Aug 30, 2024\\n\\n0.2.14 Aug 24, 2024\\n\\n0.2.13 Aug 23, 2024\\n\\n0.2.12 Aug 22, 2024\\n\\n0.2.11 Aug 22, 2024\\n\\n0.2.10 Aug 21, 2024\\n\\n0.2.9 Aug 21, 2024\\n\\n0.2.8 Aug 21, 2024\\n\\n0.2.7 Aug 21, 2024\\n\\n0.2.7a0 pre-release Aug 21, 2024\\n\\n0.2.6 Aug 21, 2024\\n\\n0.2.5 Aug 21, 2024\\n\\n0.2.5a0 pre-release Aug 20, 2024\\n\\n0.2.4 Aug 15, 2024\\n\\n0.2.3 Aug 8, 2024\\n\\n0.2.2 Aug 7, 2024\\n\\n0.2.1 Aug 7, 2024\\n\\n0.2.0 Aug 7, 2024 [...] License\\nOSI Approved :: MIT License\\n\\n\\nProgramming Language\\nPython :: 3\\nPython :: 3.9\\nPython :: 3.10\\nPython :: 3.11\\nPython :: 3.12\\n\\n\\n\\nRelease history Release notifications | RSS feed\\nThis version\\n\\n0.2.70 Feb 6, 2025\\n\\n0.2.69 Jan 31, 2025\\n\\n0.2.68 Jan 28, 2025\\n\\n0.2.67 Jan 23, 2025\\n\\n0.2.66 Jan 21, 2025\\n\\n0.2.65 Jan 21, 2025\\n\\n0.2.64 Jan 17, 2025\\n\\n0.2.63 Jan 16, 2025\\n\\n0.2.62 Jan 10, 2025\\n\\n0.2.61 Jan 5, 2025\\n\\n0.2.60 Dec 18, 2024\\n\\n0.2.59 Dec 11, 2024\\n\\n0.2.58 Dec 10, 2024\\n\\n0.2.57 Dec 10, 2024', 'score': 0.7713921013333334, 'raw_content': None}, {'url': 'https://changelog.langchain.com/?date=2024-01-01', 'title': 'January 2024 - LangChain - Changelog', 'content': 'LangGraph 🤖🚀 Introducing LangGraph -------------------------- We just launched LangGraph, which helps customize your Agent Runtime. You can read more about it on the blog . LangGraph helps construct a powerful agent... January 22, 2024\\nDecember 2023', 'score': 0.7632559836, 'raw_content': None}], 'response_time': 1.64}), AIMessage(content='', additional_kwargs={'tool_calls': [{'id': 'call_HmKYygLnDHxhXDN3Ew6SpmM5', 'function': {'arguments': '{\"name\":\"LangGraph\",\"birthday\":\"January 22, 2024\"}', 'name': 'human_assistance'}, 'type': 'function'}], 'refusal': None}, response_metadata={'token_usage': {'completion_tokens': 28, 'prompt_tokens': 1004, 'total_tokens': 1032, 'completion_tokens_details': {'accepted_prediction_tokens': 0, 'audio_tokens': 0, 'reasoning_tokens': 0, 'rejected_prediction_tokens': 0}, 'prompt_tokens_details': {'audio_tokens': 0, 'cached_tokens': 0}}, 'model_name': 'gpt-4o-mini-2024-07-18', 'system_fingerprint': 'fp_b8bc95a0ac', 'id': 'chatcmpl-BEW2GtNdxv6Yp5Lvzf3y8rqZalwlg', 'finish_reason': 'tool_calls', 'logprobs': None}, id='run-d77db1b7-1841-4897-bcdf-88d2132465bb-0', tool_calls=[{'name': 'human_assistance', 'args': {'name': 'LangGraph', 'birthday': 'January 22, 2024'}, 'id': 'call_HmKYygLnDHxhXDN3Ew6SpmM5', 'type': 'tool_call'}], usage_metadata={'input_tokens': 1004, 'output_tokens': 28, 'total_tokens': 1032, 'input_token_details': {'audio': 0, 'cache_read': 0}, 'output_token_details': {'audio': 0, 'reasoning': 0}}), ToolMessage(content=\"Made a correction: {'name': 'LangGraph', 'birthday': 'Jan 17, 2024'}\", name='human_assistance', id='e0f4dd83-c3fe-4700-9832-46089e50a182', tool_call_id='call_HmKYygLnDHxhXDN3Ew6SpmM5'), AIMessage(content='LangGraph was officially launched on January 17, 2024.', additional_kwargs={'refusal': None}, response_metadata={'token_usage': {'completion_tokens': 16, 'prompt_tokens': 1063, 'total_tokens': 1079, 'completion_tokens_details': {'accepted_prediction_tokens': 0, 'audio_tokens': 0, 'reasoning_tokens': 0, 'rejected_prediction_tokens': 0}, 'prompt_tokens_details': {'audio_tokens': 0, 'cached_tokens': 1024}}, 'model_name': 'gpt-4o-mini-2024-07-18', 'system_fingerprint': 'fp_b8bc95a0ac', 'id': 'chatcmpl-BEW38M73MslVJvGUhjFDL2U3NAHEe', 'finish_reason': 'stop', 'logprobs': None}, id='run-9c0b7317-0ef3-41b7-8f18-17d1ba2e41f7-0', usage_metadata={'input_tokens': 1063, 'output_tokens': 16, 'total_tokens': 1079, 'input_token_details': {'audio': 0, 'cache_read': 1024}, 'output_token_details': {'audio': 0, 'reasoning': 0}})]), ('name', 'LangGraph'), ('birthday', 'Jan 17, 2024')])"
      ]
     },
     "execution_count": 8,
     "metadata": {},
     "output_type": "execute_result"
    }
   ],
   "source": [
    "snapshot = graph.get_state(config)\n",
    "snapshot.values.items()"
   ]
  },
  {
   "cell_type": "code",
   "execution_count": 9,
   "metadata": {},
   "outputs": [
    {
     "data": {
      "text/plain": [
       "{'name': 'LangGraph', 'birthday': 'Jan 17, 2024'}"
      ]
     },
     "execution_count": 9,
     "metadata": {},
     "output_type": "execute_result"
    }
   ],
   "source": [
    "{k: v for k, v in snapshot.values.items() if k in {\"name\", \"birthday\"}}"
   ]
  },
  {
   "cell_type": "markdown",
   "metadata": {},
   "source": [
    "LangGraph의 state control의 특징\n",
    "\n",
    "1. 원하는 대로 상태 설계 가능\n",
    "- 메시지 이외에도 필요한 어떤 데이터든 상태로 관리할 수 있음\n",
    "- 예: 이름, 생일 등의 정보를 상태에 추가 가능\n",
    "2. 쉽고 명확한 상태 관리\n",
    "- 상태 변경을 명확하게 추적하고 제어 가능\n",
    "- 도구(Tool)를 통해 상태를 체계적으로 업데이트\n",
    "\n",
    "즉, LangGraph는 개발자가 원하는 방식대로 애플리케이션의 상태를 자유롭게 설계하고 관리할 수 있게 해주는 도구입니다."
   ]
  },
  {
   "cell_type": "code",
   "execution_count": 10,
   "metadata": {},
   "outputs": [
    {
     "data": {
      "text/plain": [
       "{'configurable': {'thread_id': '1',\n",
       "  'checkpoint_ns': '',\n",
       "  'checkpoint_id': '1f00887f-7441-6d45-8006-94232e63dba1'}}"
      ]
     },
     "execution_count": 10,
     "metadata": {},
     "output_type": "execute_result"
    }
   ],
   "source": [
    "graph.update_state(config, {\"name\": \"LangGraph (library)\"})"
   ]
  },
  {
   "cell_type": "code",
   "execution_count": 11,
   "metadata": {},
   "outputs": [
    {
     "data": {
      "text/plain": [
       "{'name': 'LangGraph (library)', 'birthday': 'Jan 17, 2024'}"
      ]
     },
     "execution_count": 11,
     "metadata": {},
     "output_type": "execute_result"
    }
   ],
   "source": [
    "snapshot = graph.get_state(config)\n",
    "\n",
    "{k: v for k, v in snapshot.values.items() if k in (\"name\", \"birthday\")}"
   ]
  },
  {
   "cell_type": "code",
   "execution_count": null,
   "metadata": {},
   "outputs": [],
   "source": []
  }
 ],
 "metadata": {
  "kernelspec": {
   "display_name": ".venv",
   "language": "python",
   "name": "python3"
  },
  "language_info": {
   "codemirror_mode": {
    "name": "ipython",
    "version": 3
   },
   "file_extension": ".py",
   "mimetype": "text/x-python",
   "name": "python",
   "nbconvert_exporter": "python",
   "pygments_lexer": "ipython3",
   "version": "3.11.9"
  }
 },
 "nbformat": 4,
 "nbformat_minor": 2
}
